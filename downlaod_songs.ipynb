{
 "cells": [
  {
   "cell_type": "code",
   "execution_count": 1,
   "id": "1af2058c",
   "metadata": {},
   "outputs": [],
   "source": [
    "import pandas as pd"
   ]
  },
  {
   "cell_type": "code",
   "execution_count": 2,
   "id": "389cc061",
   "metadata": {},
   "outputs": [],
   "source": [
    "from pytube import YouTube\n",
    "\n",
    "\n",
    "def download(url, name):\n",
    "    try:\n",
    "       video = YouTube(url)\n",
    "       stream = video.streams.filter(only_audio=True).first()\n",
    "       #stream.download(filename=f\"{video.title}.mp3\")\n",
    "       stream.download(filename='C:/Users/Tanishq/Desktop/dj/song/'  + name + \".mp3\")\n",
    "       #print(\"Song downloaded in MP3\")\n",
    "    except KeyError:\n",
    "       print(\"Unable to fetch video information. Please check the video URL or your network connection.\")"
   ]
  },
  {
   "cell_type": "code",
   "execution_count": 7,
   "id": "84b4af05",
   "metadata": {},
   "outputs": [],
   "source": [
    "df = pd.read_csv('C:/Users/Tanishq/Desktop/dj/music_dj2.csv')"
   ]
  },
  {
   "cell_type": "code",
   "execution_count": 8,
   "id": "b0e99b60",
   "metadata": {},
   "outputs": [
    {
     "data": {
      "text/plain": [
       "(157,)"
      ]
     },
     "execution_count": 8,
     "metadata": {},
     "output_type": "execute_result"
    }
   ],
   "source": [
    "df['Song Name'].shape"
   ]
  },
  {
   "cell_type": "code",
   "execution_count": 13,
   "id": "d8b767c0",
   "metadata": {},
   "outputs": [
    {
     "name": "stdout",
     "output_type": "stream",
     "text": [
      "143 song out of 157\n",
      "tum tum downloaded\n",
      "144 song out of 157\n",
      "tequila downloaded\n",
      "145 song out of 157\n",
      "khali bali downloaded\n",
      "146 song out of 157\n",
      "layla downloaded\n",
      "147 song out of 157\n",
      "prada downloaded\n",
      "148 song out of 157\n",
      "thinking out loud downloaded\n",
      "149 song out of 157\n",
      "uptown funk downloaded\n",
      "150 song out of 157\n",
      "balaindo downloaded\n",
      "151 song out of 157\n",
      "ghungoroo downloaded\n",
      "152 song out of 157\n",
      "pungi downloaded\n",
      "153 song out of 157\n",
      "Bhool Bhulaiyya downloaded\n",
      "154 song out of 157\n",
      "rasputin downloaded\n",
      "155 song out of 157\n",
      "lingi lingi downloaded\n",
      "156 song out of 157\n",
      "kolavari downloaded\n",
      "157 song out of 157\n",
      "love dose downloaded\n"
     ]
    }
   ],
   "source": [
    "for i  in range (142,df['Song Link'].shape[0]):\n",
    "    url = df['Song Link'][i]\n",
    "    name = df['Song Name'][i]\n",
    "    download(url,name)\n",
    "    print (str(i+1) + \" song out of \"+ str(df['Song Link'].shape[0]))\n",
    "    print(f'{name} downloaded')"
   ]
  },
  {
   "cell_type": "code",
   "execution_count": 9,
   "id": "94123b4b",
   "metadata": {},
   "outputs": [],
   "source": [
    "aa = 'https://www.youtube.com/watch?v=lhVceZE1lf4&ab_channel=DalerMehndi'\n",
    "download(aa,'TRY')"
   ]
  },
  {
   "cell_type": "code",
   "execution_count": null,
   "id": "e77c8f94",
   "metadata": {},
   "outputs": [],
   "source": []
  },
  {
   "cell_type": "code",
   "execution_count": null,
   "id": "d9eac508",
   "metadata": {},
   "outputs": [],
   "source": []
  },
  {
   "cell_type": "code",
   "execution_count": 11,
   "id": "cd319566",
   "metadata": {},
   "outputs": [
    {
     "name": "stdout",
     "output_type": "stream",
     "text": [
      "The video is downloaded in MP3\n"
     ]
    }
   ],
   "source": [
    "from pytube import YouTube\n",
    "\n",
    "\n",
    "def download(url):\n",
    "    try:\n",
    "       video = YouTube(url)\n",
    "       stream = video.streams.filter(only_audio=True).first()\n",
    "       stream.download(filename=f\"{video.title}.mp3\")\n",
    "       print(\"The video is downloaded in MP3\")\n",
    "    except KeyError:\n",
    "       print(\"Unable to fetch video information. Please check the video URL or your network connection.\")"
   ]
  },
  {
   "cell_type": "code",
   "execution_count": null,
   "id": "a343fa87",
   "metadata": {},
   "outputs": [],
   "source": []
  }
 ],
 "metadata": {
  "kernelspec": {
   "display_name": "Python 3 (ipykernel)",
   "language": "python",
   "name": "python3"
  },
  "language_info": {
   "codemirror_mode": {
    "name": "ipython",
    "version": 3
   },
   "file_extension": ".py",
   "mimetype": "text/x-python",
   "name": "python",
   "nbconvert_exporter": "python",
   "pygments_lexer": "ipython3",
   "version": "3.10.4"
  }
 },
 "nbformat": 4,
 "nbformat_minor": 5
}
